{
  "nbformat": 4,
  "nbformat_minor": 0,
  "metadata": {
    "colab": {
      "name": "Copy of Getting started with BigQuery",
      "version": "0.3.2",
      "provenance": [],
      "collapsed_sections": [
        "HeZN5bOEl2iI"
      ],
      "include_colab_link": true
    },
    "kernelspec": {
      "display_name": "Python 3",
      "name": "python3"
    }
  },
  "cells": [
    {
      "cell_type": "markdown",
      "metadata": {
        "id": "view-in-github",
        "colab_type": "text"
      },
      "source": [
        "<a href=\"https://colab.research.google.com/github/zw2497/Twitter_Stream_Processing/blob/master/BigQuery_datawarehouse.ipynb\" target=\"_parent\"><img src=\"https://colab.research.google.com/assets/colab-badge.svg\" alt=\"Open In Colab\"/></a>"
      ]
    },
    {
      "metadata": {
        "colab_type": "text",
        "id": "KcAZ2RHCg_Ze"
      },
      "cell_type": "markdown",
      "source": [
        "# Before you begin\n",
        "\n",
        "\n",
        "1.   Use the [Cloud Resource Manager](https://console.cloud.google.com/cloud-resource-manager) to Create a Cloud Platform project if you do not already have one.\n",
        "2.   [Enable billing](https://support.google.com/cloud/answer/6293499#enable-billing) for the project.\n",
        "3.   [Enable BigQuery](https://console.cloud.google.com/flows/enableapi?apiid=bigquery) APIs for the project.\n"
      ]
    },
    {
      "metadata": {
        "colab_type": "text",
        "id": "qTmLBxDxBAZL"
      },
      "cell_type": "markdown",
      "source": [
        "### Provide your credentials to the runtime"
      ]
    },
    {
      "metadata": {
        "colab_type": "code",
        "id": "FFSD5VCneJA_",
        "outputId": "e670e9d4-4285-4b2a-afce-457a85b1a319",
        "colab": {
          "base_uri": "https://localhost:8080/",
          "height": 33
        }
      },
      "cell_type": "code",
      "source": [
        "from google.colab import auth\n",
        "auth.authenticate_user()\n",
        "print(\"authorized\")"
      ],
      "execution_count": 141,
      "outputs": [
        {
          "output_type": "stream",
          "text": [
            "authorized\n"
          ],
          "name": "stdout"
        }
      ]
    },
    {
      "metadata": {
        "colab_type": "text",
        "id": "OHCBQv4uTCPc"
      },
      "cell_type": "markdown",
      "source": [
        "# Use BigQuery via magics\n",
        "\n",
        "The `google.cloud.bigquery` library also includes a magic command which runs a query and displays the result, optionally saving it to a variable as a `DataFrame`."
      ]
    },
    {
      "metadata": {
        "id": "ARufTfqH8O68",
        "colab_type": "code",
        "colab": {}
      },
      "cell_type": "code",
      "source": [
        "%%bigquery --project e6820-235222 df\n",
        "create table warehouse.tweet(\n",
        "tweets STRING\n",
        ")"
      ],
      "execution_count": 0,
      "outputs": []
    },
    {
      "metadata": {
        "colab_type": "text",
        "id": "rPPz4GqHCLOO"
      },
      "cell_type": "markdown",
      "source": [
        "# Use BigQuery through google-cloud-bigquery\n",
        "\n",
        "See [BigQuery documentation](https://cloud.google.com/bigquery/docs) and [library reference documentation](https://googlecloudplatform.github.io/google-cloud-python/latest/bigquery/usage.html).\n",
        "\n",
        "The [GSOD sample table](https://bigquery.cloud.google.com/table/bigquery-public-data:samples.gsod) contains weather information collected by NOAA, such as precipitation amounts and wind speeds from late 1929 to early 2010.\n"
      ]
    },
    {
      "metadata": {
        "colab_type": "text",
        "id": "LPNcomY_A0wj"
      },
      "cell_type": "markdown",
      "source": [
        "### Declare the Cloud project ID which will be used throughout this notebook"
      ]
    },
    {
      "metadata": {
        "colab_type": "code",
        "id": "nFF9Wz1CAyVI",
        "colab": {}
      },
      "cell_type": "code",
      "source": [
        "project_id = 'e6820-235222'"
      ],
      "execution_count": 0,
      "outputs": []
    },
    {
      "metadata": {
        "colab_type": "text",
        "id": "5nasv8xyFd8i"
      },
      "cell_type": "markdown",
      "source": [
        "### Sample approximately 2000 random rows"
      ]
    },
    {
      "metadata": {
        "colab_type": "code",
        "id": "gisPvdr4Eaui",
        "outputId": "55206244-ea88-404f-a8ab-a897c96ad707",
        "colab": {
          "base_uri": "https://localhost:8080/",
          "height": 150
        }
      },
      "cell_type": "code",
      "source": [
        "from google.cloud import bigquery\n",
        "\n",
        "client = bigquery.Client(project=project_id)\n",
        "\n",
        "row_count = client.query('''\n",
        "  SELECT \n",
        "    COUNT(*) as total\n",
        "  FROM `warehouse.tweet`''').to_dataframe().total[0]\n",
        "\n",
        "df = client.query('''\n",
        "  SELECT\n",
        "    *\n",
        "  FROM\n",
        "    `warehouse.tweet`''').to_dataframe()\n",
        "\n",
        "print(df,\"\\n\", row_count)"
      ],
      "execution_count": 4,
      "outputs": [
        {
          "output_type": "stream",
          "text": [
            "        tweets\n",
            "0       string\n",
            "1  hello world\n",
            "2  hello world\n",
            "3  hello world\n",
            "4       string\n",
            "5       string \n",
            " 6\n"
          ],
          "name": "stdout"
        }
      ]
    },
    {
      "metadata": {
        "colab_type": "text",
        "id": "OpJPmojxGfYO"
      },
      "cell_type": "markdown",
      "source": [
        "### Describe the sampled data"
      ]
    },
    {
      "metadata": {
        "colab_type": "code",
        "id": "YQQGTYsxGeS0",
        "outputId": "fd318fc5-168b-43ff-80df-2257c7a82cab",
        "colab": {
          "base_uri": "https://localhost:8080/",
          "height": 166
        }
      },
      "cell_type": "code",
      "source": [
        "df.describe()"
      ],
      "execution_count": 5,
      "outputs": [
        {
          "output_type": "execute_result",
          "data": {
            "text/html": [
              "<div>\n",
              "<style scoped>\n",
              "    .dataframe tbody tr th:only-of-type {\n",
              "        vertical-align: middle;\n",
              "    }\n",
              "\n",
              "    .dataframe tbody tr th {\n",
              "        vertical-align: top;\n",
              "    }\n",
              "\n",
              "    .dataframe thead th {\n",
              "        text-align: right;\n",
              "    }\n",
              "</style>\n",
              "<table border=\"1\" class=\"dataframe\">\n",
              "  <thead>\n",
              "    <tr style=\"text-align: right;\">\n",
              "      <th></th>\n",
              "      <th>tweets</th>\n",
              "    </tr>\n",
              "  </thead>\n",
              "  <tbody>\n",
              "    <tr>\n",
              "      <th>count</th>\n",
              "      <td>6</td>\n",
              "    </tr>\n",
              "    <tr>\n",
              "      <th>unique</th>\n",
              "      <td>2</td>\n",
              "    </tr>\n",
              "    <tr>\n",
              "      <th>top</th>\n",
              "      <td>hello world</td>\n",
              "    </tr>\n",
              "    <tr>\n",
              "      <th>freq</th>\n",
              "      <td>3</td>\n",
              "    </tr>\n",
              "  </tbody>\n",
              "</table>\n",
              "</div>"
            ],
            "text/plain": [
              "             tweets\n",
              "count             6\n",
              "unique            2\n",
              "top     hello world\n",
              "freq              3"
            ]
          },
          "metadata": {
            "tags": []
          },
          "execution_count": 5
        }
      ]
    },
    {
      "metadata": {
        "colab_type": "text",
        "id": "wESi-OdKGZba"
      },
      "cell_type": "markdown",
      "source": [
        "\n",
        "### View the first 10 rows"
      ]
    },
    {
      "metadata": {
        "colab_type": "code",
        "id": "2DrH3X4nGQoU",
        "outputId": "fc59c601-7d63-479b-9432-55ac51d1e442",
        "colab": {
          "base_uri": "https://localhost:8080/",
          "height": 226
        }
      },
      "cell_type": "code",
      "source": [
        "df.head(10)"
      ],
      "execution_count": 6,
      "outputs": [
        {
          "output_type": "execute_result",
          "data": {
            "text/html": [
              "<div>\n",
              "<style scoped>\n",
              "    .dataframe tbody tr th:only-of-type {\n",
              "        vertical-align: middle;\n",
              "    }\n",
              "\n",
              "    .dataframe tbody tr th {\n",
              "        vertical-align: top;\n",
              "    }\n",
              "\n",
              "    .dataframe thead th {\n",
              "        text-align: right;\n",
              "    }\n",
              "</style>\n",
              "<table border=\"1\" class=\"dataframe\">\n",
              "  <thead>\n",
              "    <tr style=\"text-align: right;\">\n",
              "      <th></th>\n",
              "      <th>tweets</th>\n",
              "    </tr>\n",
              "  </thead>\n",
              "  <tbody>\n",
              "    <tr>\n",
              "      <th>0</th>\n",
              "      <td>string</td>\n",
              "    </tr>\n",
              "    <tr>\n",
              "      <th>1</th>\n",
              "      <td>hello world</td>\n",
              "    </tr>\n",
              "    <tr>\n",
              "      <th>2</th>\n",
              "      <td>hello world</td>\n",
              "    </tr>\n",
              "    <tr>\n",
              "      <th>3</th>\n",
              "      <td>hello world</td>\n",
              "    </tr>\n",
              "    <tr>\n",
              "      <th>4</th>\n",
              "      <td>string</td>\n",
              "    </tr>\n",
              "    <tr>\n",
              "      <th>5</th>\n",
              "      <td>string</td>\n",
              "    </tr>\n",
              "  </tbody>\n",
              "</table>\n",
              "</div>"
            ],
            "text/plain": [
              "        tweets\n",
              "0       string\n",
              "1  hello world\n",
              "2  hello world\n",
              "3  hello world\n",
              "4       string\n",
              "5       string"
            ]
          },
          "metadata": {
            "tags": []
          },
          "execution_count": 6
        }
      ]
    },
    {
      "metadata": {
        "colab_type": "code",
        "id": "J4STUK2wGWnt",
        "outputId": "75006b09-b55c-4da1-f84c-c492c333b33c",
        "colab": {
          "base_uri": "https://localhost:8080/",
          "height": 226
        }
      },
      "cell_type": "code",
      "source": [
        "# 10 highest total_precipitation samples\n",
        "df.sort_values('tweets', ascending=False).head(10)"
      ],
      "execution_count": 7,
      "outputs": [
        {
          "output_type": "execute_result",
          "data": {
            "text/html": [
              "<div>\n",
              "<style scoped>\n",
              "    .dataframe tbody tr th:only-of-type {\n",
              "        vertical-align: middle;\n",
              "    }\n",
              "\n",
              "    .dataframe tbody tr th {\n",
              "        vertical-align: top;\n",
              "    }\n",
              "\n",
              "    .dataframe thead th {\n",
              "        text-align: right;\n",
              "    }\n",
              "</style>\n",
              "<table border=\"1\" class=\"dataframe\">\n",
              "  <thead>\n",
              "    <tr style=\"text-align: right;\">\n",
              "      <th></th>\n",
              "      <th>tweets</th>\n",
              "    </tr>\n",
              "  </thead>\n",
              "  <tbody>\n",
              "    <tr>\n",
              "      <th>0</th>\n",
              "      <td>string</td>\n",
              "    </tr>\n",
              "    <tr>\n",
              "      <th>4</th>\n",
              "      <td>string</td>\n",
              "    </tr>\n",
              "    <tr>\n",
              "      <th>5</th>\n",
              "      <td>string</td>\n",
              "    </tr>\n",
              "    <tr>\n",
              "      <th>1</th>\n",
              "      <td>hello world</td>\n",
              "    </tr>\n",
              "    <tr>\n",
              "      <th>2</th>\n",
              "      <td>hello world</td>\n",
              "    </tr>\n",
              "    <tr>\n",
              "      <th>3</th>\n",
              "      <td>hello world</td>\n",
              "    </tr>\n",
              "  </tbody>\n",
              "</table>\n",
              "</div>"
            ],
            "text/plain": [
              "        tweets\n",
              "0       string\n",
              "4       string\n",
              "5       string\n",
              "1  hello world\n",
              "2  hello world\n",
              "3  hello world"
            ]
          },
          "metadata": {
            "tags": []
          },
          "execution_count": 7
        }
      ]
    },
    {
      "metadata": {
        "colab_type": "text",
        "id": "HeZN5bOEl2iI"
      },
      "cell_type": "markdown",
      "source": [
        "# Use BigQuery through pandas-gbq\n",
        "\n",
        "The `pandas-gbq` library is a community led project by the pandas community. It covers basic functionality, such as writing a DataFrame to BigQuery and running a query, but as a third-party library it may not handle all BigQuery features or use cases.\n",
        "\n",
        "[Pandas GBQ Documentation](https://pandas.pydata.org/pandas-docs/stable/generated/pandas.read_gbq.html)"
      ]
    },
    {
      "metadata": {
        "colab_type": "code",
        "id": "c_ch12UEi8Jz",
        "outputId": "b9eeb7c5-bb75-4839-fe9a-b318c81c7726",
        "colab": {
          "base_uri": "https://localhost:8080/",
          "height": 160
        }
      },
      "cell_type": "code",
      "source": [
        "import pandas as pd\n",
        "\n",
        "df = pd.io.gbq.read_gbq('''\n",
        "  SELECT *\n",
        "  FROM `warehouse.tweet`\n",
        "  GROUP BY tweets\n",
        "  LIMIT 10\n",
        "''', project_id=project_id, verbose=False, dialect='standard')\n",
        "\n",
        "df.head()"
      ],
      "execution_count": 8,
      "outputs": [
        {
          "output_type": "stream",
          "text": [
            "/usr/local/lib/python3.6/dist-packages/pandas_gbq/gbq.py:810: FutureWarning: verbose is deprecated and will be removed in a future version. Set logging level in order to vary verbosity\n",
            "  \"verbosity\", FutureWarning, stacklevel=1)\n"
          ],
          "name": "stderr"
        },
        {
          "output_type": "execute_result",
          "data": {
            "text/html": [
              "<div>\n",
              "<style scoped>\n",
              "    .dataframe tbody tr th:only-of-type {\n",
              "        vertical-align: middle;\n",
              "    }\n",
              "\n",
              "    .dataframe tbody tr th {\n",
              "        vertical-align: top;\n",
              "    }\n",
              "\n",
              "    .dataframe thead th {\n",
              "        text-align: right;\n",
              "    }\n",
              "</style>\n",
              "<table border=\"1\" class=\"dataframe\">\n",
              "  <thead>\n",
              "    <tr style=\"text-align: right;\">\n",
              "      <th></th>\n",
              "      <th>tweets</th>\n",
              "    </tr>\n",
              "  </thead>\n",
              "  <tbody>\n",
              "    <tr>\n",
              "      <th>0</th>\n",
              "      <td>hello world</td>\n",
              "    </tr>\n",
              "    <tr>\n",
              "      <th>1</th>\n",
              "      <td>string</td>\n",
              "    </tr>\n",
              "  </tbody>\n",
              "</table>\n",
              "</div>"
            ],
            "text/plain": [
              "        tweets\n",
              "0  hello world\n",
              "1       string"
            ]
          },
          "metadata": {
            "tags": []
          },
          "execution_count": 8
        }
      ]
    },
    {
      "metadata": {
        "id": "tHpHJbHQZlnK",
        "colab_type": "code",
        "colab": {
          "base_uri": "https://localhost:8080/",
          "height": 50
        },
        "outputId": "858c82ae-fa5e-4f89-ebbd-457232efa73b"
      },
      "cell_type": "code",
      "source": [
        "!pip install kafka-python"
      ],
      "execution_count": 63,
      "outputs": [
        {
          "output_type": "stream",
          "text": [
            "WARNING:kafka.coordinator:Heartbeat failed for group my-group3103 because it is rebalancing\n"
          ],
          "name": "stderr"
        },
        {
          "output_type": "stream",
          "text": [
            "Requirement already satisfied: kafka-python in /usr/local/lib/python3.6/dist-packages (1.4.6)\n"
          ],
          "name": "stdout"
        }
      ]
    },
    {
      "metadata": {
        "id": "5herT4eCZ7Ew",
        "colab_type": "code",
        "colab": {}
      },
      "cell_type": "code",
      "source": [
        "from kafka import KafkaProducer, KafkaConsumer\n",
        "from kafka.errors import KafkaError\n",
        "from json import dumps, loads\n",
        "import time"
      ],
      "execution_count": 0,
      "outputs": []
    },
    {
      "metadata": {
        "id": "5SIOOO4hZE9Q",
        "colab_type": "code",
        "colab": {}
      },
      "cell_type": "code",
      "source": [
        "consumer = KafkaConsumer(\n",
        "    'tweepyv1',\n",
        "     bootstrap_servers=['35.243.144.79:9092'],\n",
        "     auto_offset_reset='earliest',\n",
        "     enable_auto_commit=True,\n",
        "     group_id='my-group31333',\n",
        "     value_deserializer=lambda x: loads(x.decode('utf-8')))"
      ],
      "execution_count": 0,
      "outputs": []
    },
    {
      "metadata": {
        "id": "v3PMfy0f-y5L",
        "colab_type": "code",
        "colab": {}
      },
      "cell_type": "code",
      "source": [
        "%%bigquery --project e6820-235222 df\n",
        "create table warehouse.tweet_info(\n",
        "favorite_count int64,\n",
        "friends_count int64,\n",
        "followers_count int64,\n",
        "full_text STRING\n",
        ")"
      ],
      "execution_count": 0,
      "outputs": []
    },
    {
      "metadata": {
        "id": "JwbHvc3nd65E",
        "colab_type": "code",
        "colab": {
          "base_uri": "https://localhost:8080/",
          "height": 1693
        },
        "outputId": "d5289490-b681-4661-dcd5-d0afd94e12f7"
      },
      "cell_type": "code",
      "source": [
        "message = consumer.poll(timeout_ms=10000, max_records=1)\n",
        "for key in message.keys():\n",
        "  if type(key) is not str:\n",
        "    try:\n",
        "      message[str(key)] = message[key]\n",
        "    except:\n",
        "      try:\n",
        "        message[repr(key)] =messagemydict[key]\n",
        "      except:\n",
        "        pass\n",
        "    del message[key]\n",
        "    \n",
        "loads(dumps(message))[\"TopicPartition(topic='tweepyv1', partition=0)\"][-1][-6]\n",
        "# print(type(loads(dumps(message))[\"TopicPartition(topic='tweepyv1', partition=0)\"][-1][-6]))"
      ],
      "execution_count": 152,
      "outputs": [
        {
          "output_type": "execute_result",
          "data": {
            "text/plain": [
              "{'contributors': None,\n",
              " 'coordinates': {'coordinates': [-97.1397, 49.8873], 'type': 'Point'},\n",
              " 'created_at': 'Sun Apr 28 19:48:51 +0000 2019',\n",
              " 'entities': {'hashtags': [{'indices': [71, 80], 'text': 'cocobolo'},\n",
              "   {'indices': [81, 91], 'text': 'fretboard'},\n",
              "   {'indices': [92, 100], 'text': 'luthier'}],\n",
              "  'symbols': [],\n",
              "  'urls': [{'display_url': 'twitter.com/i/web/status/1…',\n",
              "    'expanded_url': 'https://twitter.com/i/web/status/1122588505987788800',\n",
              "    'indices': [102, 125],\n",
              "    'url': 'https://t.co/arHCs4R4nA'}],\n",
              "  'user_mentions': []},\n",
              " 'extended_tweet': {'display_text_range': [0, 175],\n",
              "  'entities': {'hashtags': [{'indices': [71, 80], 'text': 'cocobolo'},\n",
              "    {'indices': [81, 91], 'text': 'fretboard'},\n",
              "    {'indices': [92, 100], 'text': 'luthier'},\n",
              "    {'indices': [101, 116], 'text': 'electricguitar'},\n",
              "    {'indices': [117, 130], 'text': 'customguitar'}],\n",
              "   'symbols': [],\n",
              "   'urls': [{'display_url': 'instagram.com/p/Bwz70JYgtPU/…',\n",
              "     'expanded_url': 'https://www.instagram.com/p/Bwz70JYgtPU/?utm_source=ig_twitter_share&igshid=anv6s8l98hhq',\n",
              "     'indices': [152, 175],\n",
              "     'url': 'https://t.co/mqvzzJaecH'}],\n",
              "   'user_mentions': []},\n",
              "  'full_text': 'Fret slotting jig with fret slot template speeds things up quite a bit #cocobolo #fretboard #luthier #electricguitar #customguitar @ Winnipeg, Manitoba https://t.co/mqvzzJaecH'},\n",
              " 'favorite_count': 0,\n",
              " 'favorited': False,\n",
              " 'filter_level': 'low',\n",
              " 'geo': {'coordinates': [49.8873, -97.1397], 'type': 'Point'},\n",
              " 'id': 1122588505987788800,\n",
              " 'id_str': '1122588505987788800',\n",
              " 'in_reply_to_screen_name': None,\n",
              " 'in_reply_to_status_id': None,\n",
              " 'in_reply_to_status_id_str': None,\n",
              " 'in_reply_to_user_id': None,\n",
              " 'in_reply_to_user_id_str': None,\n",
              " 'is_quote_status': False,\n",
              " 'lang': 'en',\n",
              " 'place': {'attributes': {},\n",
              "  'bounding_box': {'coordinates': [[[-97.350366, 49.713679],\n",
              "     [-97.350366, 49.993932],\n",
              "     [-96.954987, 49.993932],\n",
              "     [-96.954987, 49.713679]]],\n",
              "   'type': 'Polygon'},\n",
              "  'country': 'Canada',\n",
              "  'country_code': 'CA',\n",
              "  'full_name': 'Winnipeg, Manitoba',\n",
              "  'id': '0811cf61cd9ea52f',\n",
              "  'name': 'Winnipeg',\n",
              "  'place_type': 'city',\n",
              "  'url': 'https://api.twitter.com/1.1/geo/id/0811cf61cd9ea52f.json'},\n",
              " 'possibly_sensitive': False,\n",
              " 'quote_count': 0,\n",
              " 'reply_count': 0,\n",
              " 'retweet_count': 0,\n",
              " 'retweeted': False,\n",
              " 'source': '<a href=\"http://instagram.com\" rel=\"nofollow\">Instagram</a>',\n",
              " 'text': 'Fret slotting jig with fret slot template speeds things up quite a bit #cocobolo #fretboard #luthier… https://t.co/arHCs4R4nA',\n",
              " 'timestamp_ms': '1556480931170',\n",
              " 'truncated': True,\n",
              " 'user': {'contributors_enabled': False,\n",
              "  'created_at': 'Sat May 02 19:41:51 +0000 2009',\n",
              "  'default_profile': False,\n",
              "  'default_profile_image': False,\n",
              "  'description': 'Atheist. Beer lover/brewer. Father. Guitar owner/luthier/builder. Handyman. Motorcyclist. Nurse. Science nerd. Skeptic. Vaccines cause adults.',\n",
              "  'favourites_count': 5132,\n",
              "  'follow_request_sent': None,\n",
              "  'followers_count': 905,\n",
              "  'following': None,\n",
              "  'friends_count': 1318,\n",
              "  'geo_enabled': True,\n",
              "  'id': 37266225,\n",
              "  'id_str': '37266225',\n",
              "  'is_translator': False,\n",
              "  'lang': 'en',\n",
              "  'listed_count': 45,\n",
              "  'location': 'Winnipeg, MB Canada',\n",
              "  'name': '🇨🇦Casey Chymyshyn🇨🇦',\n",
              "  'notifications': None,\n",
              "  'profile_background_color': '131516',\n",
              "  'profile_background_image_url': 'http://abs.twimg.com/images/themes/theme14/bg.gif',\n",
              "  'profile_background_image_url_https': 'https://abs.twimg.com/images/themes/theme14/bg.gif',\n",
              "  'profile_background_tile': True,\n",
              "  'profile_banner_url': 'https://pbs.twimg.com/profile_banners/37266225/1355546745',\n",
              "  'profile_image_url': 'http://pbs.twimg.com/profile_images/1045844686362030080/SRddXFmU_normal.jpg',\n",
              "  'profile_image_url_https': 'https://pbs.twimg.com/profile_images/1045844686362030080/SRddXFmU_normal.jpg',\n",
              "  'profile_link_color': '009999',\n",
              "  'profile_sidebar_border_color': 'EEEEEE',\n",
              "  'profile_sidebar_fill_color': 'EFEFEF',\n",
              "  'profile_text_color': '333333',\n",
              "  'profile_use_background_image': True,\n",
              "  'protected': False,\n",
              "  'screen_name': 'joe_rocket65',\n",
              "  'statuses_count': 20482,\n",
              "  'time_zone': None,\n",
              "  'translator_type': 'none',\n",
              "  'url': None,\n",
              "  'utc_offset': None,\n",
              "  'verified': False}}"
            ]
          },
          "metadata": {
            "tags": []
          },
          "execution_count": 152
        }
      ]
    },
    {
      "metadata": {
        "id": "h8yZhCZTrlTw",
        "colab_type": "code",
        "colab": {
          "base_uri": "https://localhost:8080/",
          "height": 33
        },
        "outputId": "037e525b-8caf-4652-f38f-772449e5df6e"
      },
      "cell_type": "code",
      "source": [
        "# client.insert_rows(\"`warehouse.tweet`\", str(string), [('tweets','STRING')])\n",
        "\n",
        "res = loads(dumps(message))\n",
        "query_params = [bigquery.ScalarQueryParameter('tweets', 'STRING', 'message{}'.format(1))]\n",
        "queryjob = \"INSERT warehouse.tweet_info (favorite_count, friends_count, followers_count, full_text) VALUES ({}, {}, {}, '\".format(res[\"TopicPartition(topic='tweepyv1', partition=0)\"][-1][-6]['favorite_count'], \\\n",
        "res[\"TopicPartition(topic='tweepyv1', partition=0)\"][-1][-6]['user']['friends_count'], \\\n",
        "res[\"TopicPartition(topic='tweepyv1', partition=0)\"][-1][-6]['user']['followers_count']) + \\\n",
        "str(res[\"TopicPartition(topic='tweepyv1', partition=0)\"][-1][-6]['text']) \\\n",
        "+ \"')\"\n",
        "\n",
        "job_config = bigquery.QueryJobConfig()\n",
        "job_config.query_parameters = query_params\n",
        "client.query(\n",
        "    queryjob,\n",
        "    job_config=job_config\n",
        ")\n"
      ],
      "execution_count": 153,
      "outputs": [
        {
          "output_type": "execute_result",
          "data": {
            "text/plain": [
              "<google.cloud.bigquery.job.QueryJob at 0x7fc884be8550>"
            ]
          },
          "metadata": {
            "tags": []
          },
          "execution_count": 153
        }
      ]
    },
    {
      "metadata": {
        "id": "IWQOiJYCDmk6",
        "colab_type": "code",
        "colab": {
          "base_uri": "https://localhost:8080/",
          "height": 50
        },
        "outputId": "a09e1b72-90d1-47a2-a241-002f229ba326"
      },
      "cell_type": "code",
      "source": [
        "res = loads(dumps(message))\n",
        "print(res[\"TopicPartition(topic='tweepyv1', partition=0)\"][-1][-6]['favorite_count'])\n",
        "print(\"{}, {}, {}\".format(res[\"TopicPartition(topic='tweepyv1', partition=0)\"][-1][-6]['favorite_count'], \\\n",
        "res[\"TopicPartition(topic='tweepyv1', partition=0)\"][-1][-6]['user']['friends_count'], \\\n",
        "res[\"TopicPartition(topic='tweepyv1', partition=0)\"][-1][-6]['user']['followers_count']) )"
      ],
      "execution_count": 115,
      "outputs": [
        {
          "output_type": "stream",
          "text": [
            "0\n",
            "0, 12640, 13496\n"
          ],
          "name": "stdout"
        }
      ]
    },
    {
      "metadata": {
        "id": "MxuXRQHZZJ0O",
        "colab_type": "code",
        "colab": {
          "base_uri": "https://localhost:8080/",
          "height": 248
        },
        "outputId": "2cd31f79-7fb3-4a2e-ddc3-7411b655ea7b"
      },
      "cell_type": "code",
      "source": [
        "i = 1\n",
        "for line in consumer:\n",
        "  res = loads(dumps(line))\n",
        "  query_params = [bigquery.ScalarQueryParameter('tweets', 'STRING', 'message{}'.format(i))]\n",
        "  query_job = \"INSERT warehouse.tweet_info (favorite_count, friends_count, followers_count, full_text) VALUES ({}, {}, {}, '\".format(res[\"TopicPartition(topic='tweepyv1', partition=0)\"][-1][-6]['favorite_count'], \\\n",
        "  res[\"TopicPartition(topic='tweepyv1', partition=0)\"][-1][-6]['user']['friends_count'], \\\n",
        "  res[\"TopicPartition(topic='tweepyv1', partition=0)\"][-1][-6]['user']['followers_count']) + \\\n",
        "  str(res[\"TopicPartition(topic='tweepyv1', partition=0)\"][-1][-6]['text']) \\\n",
        "  + \"')\"\n",
        "\n",
        "  job_config = bigquery.QueryJobConfig()\n",
        "  job_config.query_parameters = query_params\n",
        "  client.query(\n",
        "      query_job,\n",
        "      job_config=job_config\n",
        "  )\n",
        "\n",
        "  i += 1"
      ],
      "execution_count": 154,
      "outputs": [
        {
          "output_type": "error",
          "ename": "TypeError",
          "evalue": "ignored",
          "traceback": [
            "\u001b[0;31m---------------------------------------------------------------------------\u001b[0m",
            "\u001b[0;31mTypeError\u001b[0m                                 Traceback (most recent call last)",
            "\u001b[0;32m<ipython-input-154-842f6b76e00f>\u001b[0m in \u001b[0;36m<module>\u001b[0;34m()\u001b[0m\n\u001b[1;32m      3\u001b[0m   \u001b[0mres\u001b[0m \u001b[0;34m=\u001b[0m \u001b[0mloads\u001b[0m\u001b[0;34m(\u001b[0m\u001b[0mdumps\u001b[0m\u001b[0;34m(\u001b[0m\u001b[0mline\u001b[0m\u001b[0;34m)\u001b[0m\u001b[0;34m)\u001b[0m\u001b[0;34m\u001b[0m\u001b[0;34m\u001b[0m\u001b[0m\n\u001b[1;32m      4\u001b[0m   \u001b[0mquery_params\u001b[0m \u001b[0;34m=\u001b[0m \u001b[0;34m[\u001b[0m\u001b[0mbigquery\u001b[0m\u001b[0;34m.\u001b[0m\u001b[0mScalarQueryParameter\u001b[0m\u001b[0;34m(\u001b[0m\u001b[0;34m'tweets'\u001b[0m\u001b[0;34m,\u001b[0m \u001b[0;34m'STRING'\u001b[0m\u001b[0;34m,\u001b[0m \u001b[0;34m'message{}'\u001b[0m\u001b[0;34m.\u001b[0m\u001b[0mformat\u001b[0m\u001b[0;34m(\u001b[0m\u001b[0mi\u001b[0m\u001b[0;34m)\u001b[0m\u001b[0;34m)\u001b[0m\u001b[0;34m]\u001b[0m\u001b[0;34m\u001b[0m\u001b[0;34m\u001b[0m\u001b[0m\n\u001b[0;32m----> 5\u001b[0;31m   \u001b[0mquery_job\u001b[0m \u001b[0;34m=\u001b[0m \u001b[0;34m\"INSERT warehouse.tweet_info (favorite_count, friends_count, followers_count, full_text) VALUES ({}, {}, {}, '\"\u001b[0m\u001b[0;34m.\u001b[0m\u001b[0mformat\u001b[0m\u001b[0;34m(\u001b[0m\u001b[0mres\u001b[0m\u001b[0;34m[\u001b[0m\u001b[0;34m\"TopicPartition(topic='tweepyv1', partition=0)\"\u001b[0m\u001b[0;34m]\u001b[0m\u001b[0;34m[\u001b[0m\u001b[0;34m-\u001b[0m\u001b[0;36m1\u001b[0m\u001b[0;34m]\u001b[0m\u001b[0;34m[\u001b[0m\u001b[0;34m-\u001b[0m\u001b[0;36m6\u001b[0m\u001b[0;34m]\u001b[0m\u001b[0;34m[\u001b[0m\u001b[0;34m'favorite_count'\u001b[0m\u001b[0;34m]\u001b[0m\u001b[0;34m,\u001b[0m   \u001b[0mres\u001b[0m\u001b[0;34m[\u001b[0m\u001b[0;34m\"TopicPartition(topic='tweepyv1', partition=0)\"\u001b[0m\u001b[0;34m]\u001b[0m\u001b[0;34m[\u001b[0m\u001b[0;34m-\u001b[0m\u001b[0;36m1\u001b[0m\u001b[0;34m]\u001b[0m\u001b[0;34m[\u001b[0m\u001b[0;34m-\u001b[0m\u001b[0;36m6\u001b[0m\u001b[0;34m]\u001b[0m\u001b[0;34m[\u001b[0m\u001b[0;34m'user'\u001b[0m\u001b[0;34m]\u001b[0m\u001b[0;34m[\u001b[0m\u001b[0;34m'friends_count'\u001b[0m\u001b[0;34m]\u001b[0m\u001b[0;34m,\u001b[0m   \u001b[0mres\u001b[0m\u001b[0;34m[\u001b[0m\u001b[0;34m\"TopicPartition(topic='tweepyv1', partition=0)\"\u001b[0m\u001b[0;34m]\u001b[0m\u001b[0;34m[\u001b[0m\u001b[0;34m-\u001b[0m\u001b[0;36m1\u001b[0m\u001b[0;34m]\u001b[0m\u001b[0;34m[\u001b[0m\u001b[0;34m-\u001b[0m\u001b[0;36m6\u001b[0m\u001b[0;34m]\u001b[0m\u001b[0;34m[\u001b[0m\u001b[0;34m'user'\u001b[0m\u001b[0;34m]\u001b[0m\u001b[0;34m[\u001b[0m\u001b[0;34m'followers_count'\u001b[0m\u001b[0;34m]\u001b[0m\u001b[0;34m)\u001b[0m \u001b[0;34m+\u001b[0m   \u001b[0mstr\u001b[0m\u001b[0;34m(\u001b[0m\u001b[0mres\u001b[0m\u001b[0;34m[\u001b[0m\u001b[0;34m\"TopicPartition(topic='tweepyv1', partition=0)\"\u001b[0m\u001b[0;34m]\u001b[0m\u001b[0;34m[\u001b[0m\u001b[0;34m-\u001b[0m\u001b[0;36m1\u001b[0m\u001b[0;34m]\u001b[0m\u001b[0;34m[\u001b[0m\u001b[0;34m-\u001b[0m\u001b[0;36m6\u001b[0m\u001b[0;34m]\u001b[0m\u001b[0;34m[\u001b[0m\u001b[0;34m'text'\u001b[0m\u001b[0;34m]\u001b[0m\u001b[0;34m)\u001b[0m   \u001b[0;34m+\u001b[0m \u001b[0;34m\"')\"\u001b[0m\u001b[0;34m\u001b[0m\u001b[0;34m\u001b[0m\u001b[0m\n\u001b[0m\u001b[1;32m      6\u001b[0m \u001b[0;34m\u001b[0m\u001b[0m\n\u001b[1;32m      7\u001b[0m   \u001b[0mjob_config\u001b[0m \u001b[0;34m=\u001b[0m \u001b[0mbigquery\u001b[0m\u001b[0;34m.\u001b[0m\u001b[0mQueryJobConfig\u001b[0m\u001b[0;34m(\u001b[0m\u001b[0;34m)\u001b[0m\u001b[0;34m\u001b[0m\u001b[0;34m\u001b[0m\u001b[0m\n",
            "\u001b[0;31mTypeError\u001b[0m: list indices must be integers or slices, not str"
          ]
        }
      ]
    },
    {
      "metadata": {
        "id": "GM-HCWssa7U3",
        "colab_type": "code",
        "colab": {
          "base_uri": "https://localhost:8080/",
          "height": 100
        },
        "outputId": "1795020c-c311-4808-c867-a2b461ad0c60"
      },
      "cell_type": "code",
      "source": [
        "print(client.query('''\n",
        "  SELECT *\n",
        "  FROM `warehouse.tweet_info` limit 100\n",
        "  ''').to_dataframe())"
      ],
      "execution_count": 120,
      "outputs": [
        {
          "output_type": "stream",
          "text": [
            "   favorite_count  friends_count  followers_count  \\\n",
            "0               0          12640            13496   \n",
            "\n",
            "                                   full_text  \n",
            "0  @minhtngo @jadorkables Ignorance abounds.  \n"
          ],
          "name": "stdout"
        }
      ]
    },
    {
      "metadata": {
        "id": "V-45TpOpmaBx",
        "colab_type": "code",
        "colab": {
          "base_uri": "https://localhost:8080/",
          "height": 33
        },
        "outputId": "72093576-229f-4421-b07d-c6c49c18079e"
      },
      "cell_type": "code",
      "source": [
        "type(\"string\")"
      ],
      "execution_count": 24,
      "outputs": [
        {
          "output_type": "execute_result",
          "data": {
            "text/plain": [
              "str"
            ]
          },
          "metadata": {
            "tags": []
          },
          "execution_count": 24
        }
      ]
    },
    {
      "metadata": {
        "id": "DDasQ7wpjukT",
        "colab_type": "code",
        "colab": {}
      },
      "cell_type": "code",
      "source": [
        ""
      ],
      "execution_count": 0,
      "outputs": []
    }
  ]
}