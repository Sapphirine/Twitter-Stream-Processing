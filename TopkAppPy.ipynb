{
 "cells": [
  {
   "cell_type": "markdown",
   "metadata": {
    "colab_type": "text",
    "id": "view-in-github"
   },
   "source": [
    "<a href=\"https://colab.research.google.com/github/zw2497/Twitter_Stream_Processing/blob/master/PySpark_Structured_Streaming.ipynb\" target=\"_parent\"><img src=\"https://colab.research.google.com/assets/colab-badge.svg\" alt=\"Open In Colab\"/></a>"
   ]
  },
  {
   "cell_type": "markdown",
   "metadata": {
    "colab_type": "text",
    "id": "kvD4HBMi0ohY"
   },
   "source": [
    "# Install Java, Spark, and Findspark\n",
    "This installs Apache Spark 2.4.0, Java 8, and [Findspark](https://github.com/minrk/findspark), a library that makes it easy for Python to find Spark."
   ]
  },
  {
   "cell_type": "code",
   "execution_count": 1,
   "metadata": {
    "colab": {
     "base_uri": "https://localhost:8080/",
     "height": 63
    },
    "colab_type": "code",
    "id": "fUhBhrGmyAvs",
    "outputId": "8696e6f2-1e81-48d1-f63d-c289857c58af"
   },
   "outputs": [],
   "source": [
    "# !apt-get install openjdk-8-jdk-headless -qq > /dev/null\n",
    "# !wget -q https://www-us.apache.org/dist/spark/spark-2.4.2/spark-2.4.2-bin-hadoop2.7.tgz\n",
    "# !tar xf spark-2.4.2-bin-hadoop2.7.tgz\n",
    "# !pip -q install findspark"
   ]
  },
  {
   "cell_type": "markdown",
   "metadata": {
    "colab_type": "text",
    "id": "b4Kjvk_h1AHl"
   },
   "source": [
    "#### Set Environment Variables\n",
    "Set the locations where Spark and Java are installed."
   ]
  },
  {
   "cell_type": "code",
   "execution_count": null,
   "metadata": {
    "colab": {},
    "colab_type": "code",
    "id": "8Xnb_ePUyQIL"
   },
   "outputs": [],
   "source": [
    "# import os\n",
    "# os.environ[\"JAVA_HOME\"] = \"/usr/lib/jvm/java-8-openjdk-amd64\"\n",
    "# os.environ[\"SPARK_HOME\"] = \"/content/spark-2.4.2-bin-hadoop2.7\""
   ]
  },
  {
   "cell_type": "markdown",
   "metadata": {
    "colab_type": "text",
    "id": "NwU28K5f1H3P"
   },
   "source": [
    "# Start a SparkSession\n",
    "This will start a local Spark session."
   ]
  },
  {
   "cell_type": "code",
   "execution_count": null,
   "metadata": {
    "colab": {
     "base_uri": "https://localhost:8080/",
     "height": 34
    },
    "colab_type": "code",
    "id": "3NyDBHg6HKjw",
    "outputId": "ab29e74c-6a10-4c13-f496-c4e69bbc99e2"
   },
   "outputs": [],
   "source": [
    "%%writefile ./app.py\n",
    "from pyspark.sql.functions import udf, get_json_object, explode, window\n",
    "from pyspark.sql import SparkSession\n",
    "from pyspark.sql.types import IntegerType, FloatType\n",
    "from pyspark.sql.functions import pandas_udf, PandasUDFType\n",
    "\n",
    "from textblob import TextBlob\n",
    "\n",
    "from sklearn import linear_model\n",
    "\n",
    "import pandas as pd\n",
    "import numpy as np\n",
    "\n",
    "import time\n",
    "\n",
    "spark = SparkSession \\\n",
    "    .builder \\\n",
    "    .appName(\"StructuredNetworkWordCount\") \\\n",
    "    .getOrCreate()\n",
    "spark.sparkContext.setLogLevel('FATAL')\n",
    "\n",
    "df = spark \\\n",
    "  .readStream \\\n",
    "  .format(\"kafka\") \\\n",
    "  .option(\"kafka.bootstrap.servers\", \"35.243.144.79:9092\") \\\n",
    "  .option(\"subscribe\", \"tweepyv1\") \\\n",
    "  .option(\"startingOffsets\", \"latest\") \\\n",
    "  .option(\"failOnDataLoss\", \"false\") \\\n",
    "  .load()\n",
    "\n",
    "df.createOrReplaceTempView(\"raw\")\n",
    "df = spark.sql(\"\"\"select decode(value, 'utf-8') as value, timestamp \n",
    "                  from raw\"\"\");\n",
    "\n",
    "@udf(FloatType())\n",
    "def senti(x):\n",
    "    blob = TextBlob(x)\n",
    "    s = []\n",
    "    for sentence in blob.sentences:\n",
    "        s.append(sentence.sentiment.polarity)\n",
    "    return sum(s)/len(s)\n",
    "\n",
    "df = df.select('timestamp',\\\n",
    "               get_json_object('value', '$.entities.hashtags[0].text').alias(\"hashtag\"), \\\n",
    "               senti(get_json_object('value', '$.text')).alias(\"sentiment\"))\n",
    "df = df.filter(df.hashtag.isNotNull())\n",
    "df.createOrReplaceTempView(\"datas\")\n",
    "\n",
    "\"\"\"## Trend detection\"\"\"\n",
    "\n",
    "dftrend = spark.sql(\"\"\"\n",
    "select distinct hashtag, count(*) as count_num, avg(sentiment) as sentiment, now() as timestamp\n",
    "from datas\n",
    "group by hashtag, window(timestamp, \"120 seconds\", \"30 seconds\")\n",
    "\"\"\")\n",
    "\n",
    "@pandas_udf(\"key string, value double\", PandasUDFType.GROUPED_MAP)  # doctest: +SKIP\n",
    "def trend_udf(key, pdf):\n",
    "    reg = linear_model.LinearRegression()\n",
    "    reg.fit(np.array(pd.to_datetime(pdf.timestamp).astype('int')).reshape(-1,1), np.array(pdf.count_num).reshape(-1,1))\n",
    "    return pd.DataFrame([key + (reg.coef_[0][0],)])\n",
    "\n",
    "dftrend = dftrend.groupby('hashtag').apply(trend_udf)\n",
    "\n",
    "\"\"\"# Top k\"\"\"\n",
    "\n",
    "dfslow = spark.sql(\"\"\"\n",
    "select distinct concat_ws(' ',hashtag, count(*), avg(sentiment)) as value, now() as key\n",
    "from datas\n",
    "group by hashtag, window(timestamp, \"600 seconds\", \"120 seconds\")\n",
    "\"\"\")\n",
    "\n",
    "dffast = spark.sql(\"\"\"\n",
    "select distinct concat_ws(' ',hashtag, count(*), avg(sentiment)) as value, now() as key\n",
    "from datas\n",
    "group by hashtag, window(timestamp, \"30 seconds\", \"5 seconds\")\n",
    "\"\"\")\n",
    "\n",
    "\n",
    "query = dftrend \\\n",
    "  .selectExpr(\"CAST(key AS STRING)\", \"CAST(value AS STRING)\") \\\n",
    "  .writeStream \\\n",
    "  .format(\"kafka\") \\\n",
    "  .outputMode(\"complete\") \\\n",
    "  .option(\"kafka.bootstrap.servers\", \"35.243.144.79:9092\") \\\n",
    "  .option(\"topic\", \"trend\") \\\n",
    "  .option(\"checkpointLocation\", \"./logtrend\") \\\n",
    "  .start()\n",
    "\n",
    "query1 = dfslow \\\n",
    "  .selectExpr(\"CAST(key AS STRING)\", \"CAST(value AS STRING)\") \\\n",
    "  .writeStream \\\n",
    "  .format(\"kafka\") \\\n",
    "  .outputMode(\"update\") \\\n",
    "  .option(\"kafka.bootstrap.servers\", \"35.243.144.79:9092\") \\\n",
    "  .option(\"topic\", \"slow\") \\\n",
    "  .option(\"checkpointLocation\", \"./logslow\") \\\n",
    "  .start()\n",
    "\n",
    "query2 = dffast \\\n",
    "  .selectExpr(\"CAST(key AS STRING)\", \"CAST(value AS STRING)\") \\\n",
    "  .writeStream \\\n",
    "  .format(\"kafka\") \\\n",
    "  .outputMode(\"update\") \\\n",
    "  .option(\"kafka.bootstrap.servers\", \"35.243.144.79:9092\") \\\n",
    "  .option(\"topic\", \"fast\") \\\n",
    "  .option(\"checkpointLocation\", \"./logfast\") \\\n",
    "  .start()\n",
    "\n",
    "query.awaitTermination()\n",
    "query1.awaitTermination()\n",
    "query2.awaitTermination()"
   ]
  },
  {
   "cell_type": "code",
   "execution_count": null,
   "metadata": {
    "colab": {
     "base_uri": "https://localhost:8080/",
     "height": 1392
    },
    "colab_type": "code",
    "id": "kSnvAWZ_HKge",
    "outputId": "984eb444-16d6-4c4e-9401-e8f7d678128b"
   },
   "outputs": [],
   "source": [
    "!./spark-2.4.2-bin-hadoop2.7/bin/spark-submit --packages org.apache.spark:spark-sql-kafka-0-10_2.12:2.4.2 app.py"
   ]
  },
  {
   "cell_type": "code",
   "execution_count": null,
   "metadata": {
    "colab": {},
    "colab_type": "code",
    "id": "HQwC6yY5NxE8"
   },
   "outputs": [],
   "source": []
  }
 ],
 "metadata": {
  "accelerator": "GPU",
  "colab": {
   "collapsed_sections": [],
   "include_colab_link": true,
   "name": "PySpark_Structured_Streaming.ipynb",
   "provenance": [],
   "toc_visible": true,
   "version": "0.3.2"
  },
  "kernelspec": {
   "display_name": "Python 3",
   "language": "python",
   "name": "python3"
  },
  "language_info": {
   "codemirror_mode": {
    "name": "ipython",
    "version": 3
   },
   "file_extension": ".py",
   "mimetype": "text/x-python",
   "name": "python",
   "nbconvert_exporter": "python",
   "pygments_lexer": "ipython3",
   "version": "3.7.3"
  }
 },
 "nbformat": 4,
 "nbformat_minor": 2
}
