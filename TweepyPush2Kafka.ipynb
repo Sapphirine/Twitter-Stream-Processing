{
 "cells": [
  {
   "cell_type": "markdown",
   "metadata": {
    "colab_type": "text",
    "id": "view-in-github"
   },
   "source": [
    "<a href=\"https://colab.research.google.com/github/zw2497/Twitter_Stream_Processing/blob/master/TweepyPush2Kafka.ipynb\" target=\"_parent\"><img src=\"https://colab.research.google.com/assets/colab-badge.svg\" alt=\"Open In Colab\"/></a>"
   ]
  },
  {
   "cell_type": "code",
   "execution_count": null,
   "metadata": {
    "colab": {},
    "colab_type": "code",
    "id": "i0OCbyNWU-Dh"
   },
   "outputs": [],
   "source": [
    "!pip install tweepy\n",
    "!pip install kafka-python"
   ]
  },
  {
   "cell_type": "code",
   "execution_count": 1,
   "metadata": {},
   "outputs": [],
   "source": [
    "import tweepy"
   ]
  },
  {
   "cell_type": "code",
   "execution_count": 2,
   "metadata": {
    "colab": {},
    "colab_type": "code",
    "id": "P1brOjNndBpq"
   },
   "outputs": [],
   "source": [
    "from kafka import KafkaProducer, KafkaConsumer\n",
    "from kafka.errors import KafkaError\n",
    "from json import dumps, loads"
   ]
  },
  {
   "cell_type": "code",
   "execution_count": 3,
   "metadata": {
    "colab": {},
    "colab_type": "code",
    "id": "DoV20lPWdSJh"
   },
   "outputs": [],
   "source": [
    "producer = KafkaProducer(bootstrap_servers=['35.243.144.79:9092'],\n",
    "                         value_serializer=lambda x: dumps(x).encode('utf-8'))"
   ]
  },
  {
   "cell_type": "markdown",
   "metadata": {
    "colab_type": "text",
    "id": "atB5bNI0emQa"
   },
   "source": [
    "### Setup Streaming"
   ]
  },
  {
   "cell_type": "code",
   "execution_count": 4,
   "metadata": {
    "colab": {},
    "colab_type": "code",
    "id": "nBCu72a9U6aO"
   },
   "outputs": [],
   "source": [
    "class LDSStreamListener(tweepy.StreamListener):\n",
    "    def on_status(self, status):\n",
    "#         print(status.text)\n",
    "        producer.send('tweepyv1', value=status._json) "
   ]
  },
  {
   "cell_type": "code",
   "execution_count": 5,
   "metadata": {
    "colab": {},
    "colab_type": "code",
    "id": "45e9LBkOVERg"
   },
   "outputs": [],
   "source": [
    "consumer_key  = \"2wrYTQnh4poBbF5MsubR3sk4kzw\"\n",
    "consumer_secret = \"93Yi0isNNgNPW4bFo8hsMpANUIw61lofgRRpz8H39P5V6o63tlzw\"\n",
    "access_token  = \"2761651876-LoLkgE3EFYkqIHSGEPvzB3udtmATj4XNem2MemWzw\"\n",
    "access_token_secret = \"1uDlUpdk6mrinFKFl3vN06xIVeORaa60EjubXrEOSpYKczw\"\n",
    "\n",
    "auth = tweepy.OAuthHandler(consumer_key, consumer_secret)\n",
    "auth.set_access_token(access_token, access_token_secret)\n",
    "api = tweepy.API(auth)\n",
    "\n",
    "myStream = tweepy.Stream(auth=api.auth, listener=LDSStreamListener())"
   ]
  },
  {
   "cell_type": "markdown",
   "metadata": {
    "colab_type": "text",
    "id": "AaKL3UXJefuX"
   },
   "source": [
    "### Start Streaming"
   ]
  },
  {
   "cell_type": "code",
   "execution_count": null,
   "metadata": {
    "colab": {},
    "colab_type": "code",
    "id": "RDt_is8EVx3X"
   },
   "outputs": [],
   "source": [
    "myStream.filter(locations=(-171, 18, -66, 71), languages=['en'])"
   ]
  },
  {
   "cell_type": "code",
   "execution_count": null,
   "metadata": {},
   "outputs": [],
   "source": []
  },
  {
   "cell_type": "code",
   "execution_count": null,
   "metadata": {},
   "outputs": [],
   "source": []
  },
  {
   "cell_type": "code",
   "execution_count": null,
   "metadata": {},
   "outputs": [],
   "source": []
  },
  {
   "cell_type": "code",
   "execution_count": null,
   "metadata": {},
   "outputs": [],
   "source": []
  },
  {
   "cell_type": "markdown",
   "metadata": {
    "colab_type": "text",
    "id": "fZnFdI6Beimh"
   },
   "source": [
    "### Consumer Test"
   ]
  },
  {
   "cell_type": "code",
   "execution_count": null,
   "metadata": {
    "colab": {},
    "colab_type": "code",
    "id": "8buYZQz2V805"
   },
   "outputs": [],
   "source": [
    "consumer = KafkaConsumer(\n",
    "    'fast',\n",
    "     bootstrap_servers=['35.243.144.79:9092'],\n",
    "     auto_offset_reset='earliest',\n",
    "     enable_auto_commit=False,\n",
    "     group_id='my-group3102',\n",
    "     value_deserializer=lambda x: loads(x.decode('utf-8')))"
   ]
  },
  {
   "cell_type": "code",
   "execution_count": null,
   "metadata": {
    "colab": {},
    "colab_type": "code",
    "id": "l6M0-fY5eDVY"
   },
   "outputs": [],
   "source": [
    "for message in consumer:\n",
    "    message = message.value\n",
    "    print(message)"
   ]
  }
 ],
 "metadata": {
  "colab": {
   "include_colab_link": true,
   "name": "Tweepy_push.ipynb",
   "provenance": [],
   "version": "0.3.2"
  },
  "kernelspec": {
   "display_name": "Python 3",
   "language": "python",
   "name": "python3"
  },
  "language_info": {
   "codemirror_mode": {
    "name": "ipython",
    "version": 3
   },
   "file_extension": ".py",
   "mimetype": "text/x-python",
   "name": "python",
   "nbconvert_exporter": "python",
   "pygments_lexer": "ipython3",
   "version": "3.7.3"
  }
 },
 "nbformat": 4,
 "nbformat_minor": 2
}
